{
  "nbformat": 4,
  "nbformat_minor": 0,
  "metadata": {
    "colab": {
      "provenance": [],
      "authorship_tag": "ABX9TyOlOx5d+Q2C2v/cQYALuMmE",
      "include_colab_link": true
    },
    "kernelspec": {
      "name": "python3",
      "display_name": "Python 3"
    },
    "language_info": {
      "name": "python"
    }
  },
  "cells": [
    {
      "cell_type": "markdown",
      "metadata": {
        "id": "view-in-github",
        "colab_type": "text"
      },
      "source": [
        "<a href=\"https://colab.research.google.com/github/mariaayza22/MRTK/blob/main/ANONYMIZER.ipynb\" target=\"_parent\"><img src=\"https://colab.research.google.com/assets/colab-badge.svg\" alt=\"Open In Colab\"/></a>"
      ]
    },
    {
      "cell_type": "code",
      "execution_count": 1,
      "metadata": {
        "colab": {
          "base_uri": "https://localhost:8080/"
        },
        "id": "wO66AZ24OPol",
        "outputId": "89e9db13-a4d6-438c-e281-c68923b23464"
      },
      "outputs": [
        {
          "output_type": "stream",
          "name": "stdout",
          "text": [
            "Ingrese la ruta del archivo de entrada: /content/surgical_view.txt.txt\n",
            "Ingrese la ruta del nuevo archivo de salida: /content/surgical.txt\n",
            "Ingrese el contenido a borrar: surgeryScheduledStartDatetime\n",
            "Contenido 'surgeryScheduledStartDatetime' eliminado correctamente. Nuevo archivo creado: /content/surgical.txt\n"
          ]
        }
      ],
      "source": [
        "def eliminar_linea_contenido(input_ruta, contenido_a_borrar, output_ruta):\n",
        "    try:\n",
        "        # Abre el archivo de entrada en modo lectura\n",
        "        with open(input_ruta, 'r') as input_file:\n",
        "            # Lee todas las líneas del archivo\n",
        "            lineas = input_file.readlines()\n",
        "\n",
        "        # Filtra las líneas que no contienen el contenido a borrar\n",
        "        lineas_filtradas = [linea for linea in lineas if contenido_a_borrar not in linea]\n",
        "\n",
        "        # Crea el nuevo archivo de salida con las líneas filtradas\n",
        "        with open(output_ruta, 'w') as output_file:\n",
        "            output_file.writelines(lineas_filtradas)\n",
        "\n",
        "        print(f\"Contenido '{contenido_a_borrar}' eliminado correctamente. Nuevo archivo creado: {output_ruta}\")\n",
        "    except FileNotFoundError:\n",
        "        print(\"El archivo no fue encontrado.\")\n",
        "    except Exception as e:\n",
        "        print(f\"Se produjo un error: {e}\")\n",
        "\n",
        "# Solicita al usuario las rutas de entrada y salida, y el contenido a buscar\n",
        "input_ruta = input(\"Ingrese la ruta del archivo de entrada: \")\n",
        "output_ruta = input(\"Ingrese la ruta del nuevo archivo de salida: \")\n",
        "contenido_a_borrar = input(\"Ingrese el contenido a borrar: \")\n",
        "\n",
        "# Llama a la función para eliminar el contenido y crear el nuevo archivo\n",
        "eliminar_linea_contenido(input_ruta, contenido_a_borrar, output_ruta)\n"
      ]
    },
    {
      "cell_type": "code",
      "source": [],
      "metadata": {
        "id": "7EEx8uNEP_jJ"
      },
      "execution_count": 8,
      "outputs": []
    }
  ]
}